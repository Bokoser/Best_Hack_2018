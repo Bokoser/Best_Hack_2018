{
 "cells": [
  {
   "cell_type": "markdown",
   "id": "regulation-refund",
   "metadata": {},
   "source": [
    "# Извлечение данных"
   ]
  },
  {
   "cell_type": "code",
   "execution_count": 2,
   "id": "accepting-forge",
   "metadata": {},
   "outputs": [],
   "source": [
    "import zipfile\n",
    "         \n",
    "train_zip = zipfile.ZipFile('train.zip')\n",
    "train_zip.extractall()\n",
    "train_zip.close()\n",
    "\n",
    "test_zip = zipfile.ZipFile('test.zip')\n",
    "test_zip.extractall()\n",
    "test_zip.close()"
   ]
  },
  {
   "cell_type": "markdown",
   "id": "italian-burst",
   "metadata": {},
   "source": [
    "# Анализ данных"
   ]
  },
  {
   "cell_type": "code",
   "execution_count": 1,
   "id": "constitutional-salon",
   "metadata": {},
   "outputs": [],
   "source": [
    "import pandas as pd\n",
    "import numpy as np\n",
    "import matplotlib\n",
    "import matplotlib.pyplot as plt"
   ]
  },
  {
   "cell_type": "code",
   "execution_count": 2,
   "id": "floral-houston",
   "metadata": {},
   "outputs": [
    {
     "data": {
      "text/html": [
       "<div>\n",
       "<style scoped>\n",
       "    .dataframe tbody tr th:only-of-type {\n",
       "        vertical-align: middle;\n",
       "    }\n",
       "\n",
       "    .dataframe tbody tr th {\n",
       "        vertical-align: top;\n",
       "    }\n",
       "\n",
       "    .dataframe thead th {\n",
       "        text-align: right;\n",
       "    }\n",
       "</style>\n",
       "<table border=\"1\" class=\"dataframe\">\n",
       "  <thead>\n",
       "    <tr style=\"text-align: right;\">\n",
       "      <th></th>\n",
       "      <th>x0</th>\n",
       "      <th>x1</th>\n",
       "      <th>x2</th>\n",
       "      <th>x3</th>\n",
       "      <th>x4</th>\n",
       "      <th>x5</th>\n",
       "      <th>x6</th>\n",
       "      <th>x7</th>\n",
       "      <th>x8</th>\n",
       "      <th>x9</th>\n",
       "      <th>...</th>\n",
       "      <th>x53</th>\n",
       "      <th>x54</th>\n",
       "      <th>x55</th>\n",
       "      <th>x56</th>\n",
       "      <th>x57</th>\n",
       "      <th>x58</th>\n",
       "      <th>x59</th>\n",
       "      <th>x60</th>\n",
       "      <th>x61</th>\n",
       "      <th>y</th>\n",
       "    </tr>\n",
       "  </thead>\n",
       "  <tbody>\n",
       "    <tr>\n",
       "      <th>0</th>\n",
       "      <td>b4d8a653ea</td>\n",
       "      <td>16a14a2d17</td>\n",
       "      <td>06330986ed</td>\n",
       "      <td>ca63304de0</td>\n",
       "      <td>a62168d626</td>\n",
       "      <td>1746600cb0</td>\n",
       "      <td>1</td>\n",
       "      <td>1</td>\n",
       "      <td>-0.688706</td>\n",
       "      <td>7e5c97705a</td>\n",
       "      <td>...</td>\n",
       "      <td>0.235333</td>\n",
       "      <td>0.264952</td>\n",
       "      <td>0.000000</td>\n",
       "      <td>0.333333</td>\n",
       "      <td>0.333333</td>\n",
       "      <td>0.333333</td>\n",
       "      <td>0.000000</td>\n",
       "      <td>0.000000</td>\n",
       "      <td>9.0</td>\n",
       "      <td>2</td>\n",
       "    </tr>\n",
       "    <tr>\n",
       "      <th>1</th>\n",
       "      <td>467f9617a3</td>\n",
       "      <td>16a14a2d17</td>\n",
       "      <td>06330986ed</td>\n",
       "      <td>ca63304de0</td>\n",
       "      <td>b7584c2d52</td>\n",
       "      <td>1746600cb0</td>\n",
       "      <td>1</td>\n",
       "      <td>1</td>\n",
       "      <td>0.870871</td>\n",
       "      <td>5624b8f759</td>\n",
       "      <td>...</td>\n",
       "      <td>1.782346</td>\n",
       "      <td>1.322409</td>\n",
       "      <td>0.011647</td>\n",
       "      <td>0.397671</td>\n",
       "      <td>0.239601</td>\n",
       "      <td>0.249584</td>\n",
       "      <td>0.068220</td>\n",
       "      <td>0.033278</td>\n",
       "      <td>601.0</td>\n",
       "      <td>4</td>\n",
       "    </tr>\n",
       "    <tr>\n",
       "      <th>2</th>\n",
       "      <td>190436e528</td>\n",
       "      <td>16a14a2d17</td>\n",
       "      <td>06330986ed</td>\n",
       "      <td>ca63304de0</td>\n",
       "      <td>b7584c2d52</td>\n",
       "      <td>1746600cb0</td>\n",
       "      <td>1</td>\n",
       "      <td>1</td>\n",
       "      <td>0.437655</td>\n",
       "      <td>5624b8f759</td>\n",
       "      <td>...</td>\n",
       "      <td>-0.586540</td>\n",
       "      <td>0.672436</td>\n",
       "      <td>0.000000</td>\n",
       "      <td>0.606061</td>\n",
       "      <td>0.121212</td>\n",
       "      <td>0.212121</td>\n",
       "      <td>0.060606</td>\n",
       "      <td>0.000000</td>\n",
       "      <td>33.0</td>\n",
       "      <td>3</td>\n",
       "    </tr>\n",
       "    <tr>\n",
       "      <th>3</th>\n",
       "      <td>43859085bc</td>\n",
       "      <td>16a14a2d17</td>\n",
       "      <td>06330986ed</td>\n",
       "      <td>ca63304de0</td>\n",
       "      <td>a62168d626</td>\n",
       "      <td>1746600cb0</td>\n",
       "      <td>1</td>\n",
       "      <td>1</td>\n",
       "      <td>0.004439</td>\n",
       "      <td>f67f142e40</td>\n",
       "      <td>...</td>\n",
       "      <td>-1.600326</td>\n",
       "      <td>-1.838680</td>\n",
       "      <td>0.000000</td>\n",
       "      <td>1.000000</td>\n",
       "      <td>0.000000</td>\n",
       "      <td>0.000000</td>\n",
       "      <td>0.000000</td>\n",
       "      <td>0.000000</td>\n",
       "      <td>1.0</td>\n",
       "      <td>4</td>\n",
       "    </tr>\n",
       "    <tr>\n",
       "      <th>4</th>\n",
       "      <td>a4c3095b75</td>\n",
       "      <td>16a14a2d17</td>\n",
       "      <td>06330986ed</td>\n",
       "      <td>ca63304de0</td>\n",
       "      <td>b7584c2d52</td>\n",
       "      <td>1746600cb0</td>\n",
       "      <td>1</td>\n",
       "      <td>1</td>\n",
       "      <td>0.480977</td>\n",
       "      <td>7e5c97705a</td>\n",
       "      <td>...</td>\n",
       "      <td>0.960991</td>\n",
       "      <td>0.790990</td>\n",
       "      <td>0.020161</td>\n",
       "      <td>0.645161</td>\n",
       "      <td>0.258065</td>\n",
       "      <td>0.036290</td>\n",
       "      <td>0.040323</td>\n",
       "      <td>0.000000</td>\n",
       "      <td>248.0</td>\n",
       "      <td>3</td>\n",
       "    </tr>\n",
       "  </tbody>\n",
       "</table>\n",
       "<p>5 rows × 63 columns</p>\n",
       "</div>"
      ],
      "text/plain": [
       "           x0          x1          x2          x3          x4          x5  x6  \\\n",
       "0  b4d8a653ea  16a14a2d17  06330986ed  ca63304de0  a62168d626  1746600cb0   1   \n",
       "1  467f9617a3  16a14a2d17  06330986ed  ca63304de0  b7584c2d52  1746600cb0   1   \n",
       "2  190436e528  16a14a2d17  06330986ed  ca63304de0  b7584c2d52  1746600cb0   1   \n",
       "3  43859085bc  16a14a2d17  06330986ed  ca63304de0  a62168d626  1746600cb0   1   \n",
       "4  a4c3095b75  16a14a2d17  06330986ed  ca63304de0  b7584c2d52  1746600cb0   1   \n",
       "\n",
       "   x7        x8          x9  ...       x53       x54       x55       x56  \\\n",
       "0   1 -0.688706  7e5c97705a  ...  0.235333  0.264952  0.000000  0.333333   \n",
       "1   1  0.870871  5624b8f759  ...  1.782346  1.322409  0.011647  0.397671   \n",
       "2   1  0.437655  5624b8f759  ... -0.586540  0.672436  0.000000  0.606061   \n",
       "3   1  0.004439  f67f142e40  ... -1.600326 -1.838680  0.000000  1.000000   \n",
       "4   1  0.480977  7e5c97705a  ...  0.960991  0.790990  0.020161  0.645161   \n",
       "\n",
       "        x57       x58       x59       x60    x61  y  \n",
       "0  0.333333  0.333333  0.000000  0.000000    9.0  2  \n",
       "1  0.239601  0.249584  0.068220  0.033278  601.0  4  \n",
       "2  0.121212  0.212121  0.060606  0.000000   33.0  3  \n",
       "3  0.000000  0.000000  0.000000  0.000000    1.0  4  \n",
       "4  0.258065  0.036290  0.040323  0.000000  248.0  3  \n",
       "\n",
       "[5 rows x 63 columns]"
      ]
     },
     "execution_count": 2,
     "metadata": {},
     "output_type": "execute_result"
    }
   ],
   "source": [
    "df = pd.read_csv('train.csv', header=0, index_col=False)\n",
    "df.head()"
   ]
  },
  {
   "cell_type": "code",
   "execution_count": 3,
   "id": "handmade-equity",
   "metadata": {},
   "outputs": [
    {
     "name": "stdout",
     "output_type": "stream",
     "text": [
      "(50000, 63)\n"
     ]
    }
   ],
   "source": [
    "print(df.shape)"
   ]
  },
  {
   "cell_type": "markdown",
   "id": "painted-slide",
   "metadata": {},
   "source": [
    "Проанализируем типы данных"
   ]
  },
  {
   "cell_type": "code",
   "execution_count": 4,
   "id": "interstate-potter",
   "metadata": {},
   "outputs": [
    {
     "name": "stdout",
     "output_type": "stream",
     "text": [
      "[dtype('O') dtype('int64') dtype('float64')]\n"
     ]
    }
   ],
   "source": [
    "print(df.dtypes.unique())"
   ]
  },
  {
   "cell_type": "code",
   "execution_count": 5,
   "id": "driving-effect",
   "metadata": {},
   "outputs": [
    {
     "name": "stdout",
     "output_type": "stream",
     "text": [
      "Columns with string data type are: ['x0', 'x1', 'x2', 'x3', 'x4', 'x5', 'x9', 'x10', 'x11', 'x12', 'x14', 'x15', 'x16', 'x17', 'x18', 'x19', 'x20', 'x21', 'x22']\n",
      "Columns with float data type are: ['x8', 'x13', 'x23', 'x24', 'x25', 'x26', 'x27', 'x28', 'x29', 'x30', 'x31', 'x32', 'x33', 'x34', 'x35', 'x36', 'x37', 'x38', 'x39', 'x40', 'x41', 'x42', 'x43', 'x44', 'x45', 'x46', 'x47', 'x48', 'x49', 'x50', 'x51', 'x52', 'x53', 'x54', 'x55', 'x56', 'x57', 'x58', 'x59', 'x60', 'x61']\n",
      "Columns with int data type are: ['x6', 'x7', 'y']\n"
     ]
    }
   ],
   "source": [
    "str_columns = []\n",
    "float_columns = []\n",
    "int_columns = []\n",
    "for column in df.columns:\n",
    "    if df[column].dtypes == 'object':\n",
    "        str_columns.append(column)\n",
    "    elif df[column].dtypes == 'float64':\n",
    "        float_columns.append(column)\n",
    "    else:\n",
    "        int_columns.append(column)\n",
    "print('Columns with string data type are: {0}'.format(str_columns))\n",
    "print('Columns with float data type are: {0}'.format(float_columns))\n",
    "print('Columns with int data type are: {0}'.format(int_columns))"
   ]
  },
  {
   "cell_type": "code",
   "execution_count": 6,
   "id": "loaded-netherlands",
   "metadata": {},
   "outputs": [
    {
     "data": {
      "text/html": [
       "<div>\n",
       "<style scoped>\n",
       "    .dataframe tbody tr th:only-of-type {\n",
       "        vertical-align: middle;\n",
       "    }\n",
       "\n",
       "    .dataframe tbody tr th {\n",
       "        vertical-align: top;\n",
       "    }\n",
       "\n",
       "    .dataframe thead th {\n",
       "        text-align: right;\n",
       "    }\n",
       "</style>\n",
       "<table border=\"1\" class=\"dataframe\">\n",
       "  <thead>\n",
       "    <tr style=\"text-align: right;\">\n",
       "      <th></th>\n",
       "      <th>x0</th>\n",
       "      <th>x1</th>\n",
       "      <th>x2</th>\n",
       "      <th>x3</th>\n",
       "      <th>x4</th>\n",
       "      <th>x5</th>\n",
       "      <th>x6</th>\n",
       "      <th>x7</th>\n",
       "      <th>x8</th>\n",
       "      <th>x9</th>\n",
       "      <th>...</th>\n",
       "      <th>x53</th>\n",
       "      <th>x54</th>\n",
       "      <th>x55</th>\n",
       "      <th>x56</th>\n",
       "      <th>x57</th>\n",
       "      <th>x58</th>\n",
       "      <th>x59</th>\n",
       "      <th>x60</th>\n",
       "      <th>x61</th>\n",
       "      <th>y</th>\n",
       "    </tr>\n",
       "  </thead>\n",
       "  <tbody>\n",
       "    <tr>\n",
       "      <th>count</th>\n",
       "      <td>49480</td>\n",
       "      <td>49500</td>\n",
       "      <td>49528</td>\n",
       "      <td>49504</td>\n",
       "      <td>49514</td>\n",
       "      <td>49490</td>\n",
       "      <td>50000.00000</td>\n",
       "      <td>50000.000000</td>\n",
       "      <td>48793.000000</td>\n",
       "      <td>47642</td>\n",
       "      <td>...</td>\n",
       "      <td>47844.000000</td>\n",
       "      <td>47844.000000</td>\n",
       "      <td>46126.000000</td>\n",
       "      <td>46126.000000</td>\n",
       "      <td>46126.000000</td>\n",
       "      <td>46126.000000</td>\n",
       "      <td>46126.000000</td>\n",
       "      <td>46126.000000</td>\n",
       "      <td>46126.000000</td>\n",
       "      <td>50000.000000</td>\n",
       "    </tr>\n",
       "    <tr>\n",
       "      <th>unique</th>\n",
       "      <td>85</td>\n",
       "      <td>15</td>\n",
       "      <td>2</td>\n",
       "      <td>2</td>\n",
       "      <td>5</td>\n",
       "      <td>6</td>\n",
       "      <td>NaN</td>\n",
       "      <td>NaN</td>\n",
       "      <td>NaN</td>\n",
       "      <td>7</td>\n",
       "      <td>...</td>\n",
       "      <td>NaN</td>\n",
       "      <td>NaN</td>\n",
       "      <td>NaN</td>\n",
       "      <td>NaN</td>\n",
       "      <td>NaN</td>\n",
       "      <td>NaN</td>\n",
       "      <td>NaN</td>\n",
       "      <td>NaN</td>\n",
       "      <td>NaN</td>\n",
       "      <td>NaN</td>\n",
       "    </tr>\n",
       "    <tr>\n",
       "      <th>top</th>\n",
       "      <td>aa2f3cd34a</td>\n",
       "      <td>16a14a2d17</td>\n",
       "      <td>06330986ed</td>\n",
       "      <td>ca63304de0</td>\n",
       "      <td>b7584c2d52</td>\n",
       "      <td>1746600cb0</td>\n",
       "      <td>NaN</td>\n",
       "      <td>NaN</td>\n",
       "      <td>NaN</td>\n",
       "      <td>f67f142e40</td>\n",
       "      <td>...</td>\n",
       "      <td>NaN</td>\n",
       "      <td>NaN</td>\n",
       "      <td>NaN</td>\n",
       "      <td>NaN</td>\n",
       "      <td>NaN</td>\n",
       "      <td>NaN</td>\n",
       "      <td>NaN</td>\n",
       "      <td>NaN</td>\n",
       "      <td>NaN</td>\n",
       "      <td>NaN</td>\n",
       "    </tr>\n",
       "    <tr>\n",
       "      <th>freq</th>\n",
       "      <td>13090</td>\n",
       "      <td>48103</td>\n",
       "      <td>48145</td>\n",
       "      <td>49085</td>\n",
       "      <td>28653</td>\n",
       "      <td>47980</td>\n",
       "      <td>NaN</td>\n",
       "      <td>NaN</td>\n",
       "      <td>NaN</td>\n",
       "      <td>16313</td>\n",
       "      <td>...</td>\n",
       "      <td>NaN</td>\n",
       "      <td>NaN</td>\n",
       "      <td>NaN</td>\n",
       "      <td>NaN</td>\n",
       "      <td>NaN</td>\n",
       "      <td>NaN</td>\n",
       "      <td>NaN</td>\n",
       "      <td>NaN</td>\n",
       "      <td>NaN</td>\n",
       "      <td>NaN</td>\n",
       "    </tr>\n",
       "    <tr>\n",
       "      <th>mean</th>\n",
       "      <td>NaN</td>\n",
       "      <td>NaN</td>\n",
       "      <td>NaN</td>\n",
       "      <td>NaN</td>\n",
       "      <td>NaN</td>\n",
       "      <td>NaN</td>\n",
       "      <td>0.99296</td>\n",
       "      <td>0.975860</td>\n",
       "      <td>-0.000252</td>\n",
       "      <td>NaN</td>\n",
       "      <td>...</td>\n",
       "      <td>-0.000686</td>\n",
       "      <td>-0.003266</td>\n",
       "      <td>0.046325</td>\n",
       "      <td>0.298044</td>\n",
       "      <td>0.286040</td>\n",
       "      <td>0.201557</td>\n",
       "      <td>0.116578</td>\n",
       "      <td>0.051234</td>\n",
       "      <td>161.143910</td>\n",
       "      <td>3.108880</td>\n",
       "    </tr>\n",
       "    <tr>\n",
       "      <th>std</th>\n",
       "      <td>NaN</td>\n",
       "      <td>NaN</td>\n",
       "      <td>NaN</td>\n",
       "      <td>NaN</td>\n",
       "      <td>NaN</td>\n",
       "      <td>NaN</td>\n",
       "      <td>0.08361</td>\n",
       "      <td>0.153485</td>\n",
       "      <td>1.023282</td>\n",
       "      <td>NaN</td>\n",
       "      <td>...</td>\n",
       "      <td>0.999981</td>\n",
       "      <td>1.000475</td>\n",
       "      <td>0.130912</td>\n",
       "      <td>0.300326</td>\n",
       "      <td>0.291669</td>\n",
       "      <td>0.256582</td>\n",
       "      <td>0.203317</td>\n",
       "      <td>0.139306</td>\n",
       "      <td>186.923802</td>\n",
       "      <td>1.217479</td>\n",
       "    </tr>\n",
       "    <tr>\n",
       "      <th>min</th>\n",
       "      <td>NaN</td>\n",
       "      <td>NaN</td>\n",
       "      <td>NaN</td>\n",
       "      <td>NaN</td>\n",
       "      <td>NaN</td>\n",
       "      <td>NaN</td>\n",
       "      <td>0.00000</td>\n",
       "      <td>0.000000</td>\n",
       "      <td>-85.252444</td>\n",
       "      <td>NaN</td>\n",
       "      <td>...</td>\n",
       "      <td>-1.600355</td>\n",
       "      <td>-1.838682</td>\n",
       "      <td>0.000000</td>\n",
       "      <td>0.000000</td>\n",
       "      <td>0.000000</td>\n",
       "      <td>0.000000</td>\n",
       "      <td>0.000000</td>\n",
       "      <td>0.000000</td>\n",
       "      <td>1.000000</td>\n",
       "      <td>0.000000</td>\n",
       "    </tr>\n",
       "    <tr>\n",
       "      <th>25%</th>\n",
       "      <td>NaN</td>\n",
       "      <td>NaN</td>\n",
       "      <td>NaN</td>\n",
       "      <td>NaN</td>\n",
       "      <td>NaN</td>\n",
       "      <td>NaN</td>\n",
       "      <td>1.00000</td>\n",
       "      <td>1.000000</td>\n",
       "      <td>-0.255490</td>\n",
       "      <td>NaN</td>\n",
       "      <td>...</td>\n",
       "      <td>-0.697021</td>\n",
       "      <td>-0.731589</td>\n",
       "      <td>0.000000</td>\n",
       "      <td>0.037037</td>\n",
       "      <td>0.035714</td>\n",
       "      <td>0.008065</td>\n",
       "      <td>0.000000</td>\n",
       "      <td>0.000000</td>\n",
       "      <td>37.000000</td>\n",
       "      <td>2.000000</td>\n",
       "    </tr>\n",
       "    <tr>\n",
       "      <th>50%</th>\n",
       "      <td>NaN</td>\n",
       "      <td>NaN</td>\n",
       "      <td>NaN</td>\n",
       "      <td>NaN</td>\n",
       "      <td>NaN</td>\n",
       "      <td>NaN</td>\n",
       "      <td>1.00000</td>\n",
       "      <td>1.000000</td>\n",
       "      <td>0.221047</td>\n",
       "      <td>NaN</td>\n",
       "      <td>...</td>\n",
       "      <td>-0.080427</td>\n",
       "      <td>-0.011984</td>\n",
       "      <td>0.000000</td>\n",
       "      <td>0.193182</td>\n",
       "      <td>0.181818</td>\n",
       "      <td>0.086207</td>\n",
       "      <td>0.022727</td>\n",
       "      <td>0.000000</td>\n",
       "      <td>105.000000</td>\n",
       "      <td>3.000000</td>\n",
       "    </tr>\n",
       "    <tr>\n",
       "      <th>75%</th>\n",
       "      <td>NaN</td>\n",
       "      <td>NaN</td>\n",
       "      <td>NaN</td>\n",
       "      <td>NaN</td>\n",
       "      <td>NaN</td>\n",
       "      <td>NaN</td>\n",
       "      <td>1.00000</td>\n",
       "      <td>1.000000</td>\n",
       "      <td>0.567620</td>\n",
       "      <td>NaN</td>\n",
       "      <td>...</td>\n",
       "      <td>0.624234</td>\n",
       "      <td>0.804853</td>\n",
       "      <td>0.018349</td>\n",
       "      <td>0.500000</td>\n",
       "      <td>0.481013</td>\n",
       "      <td>0.304348</td>\n",
       "      <td>0.129900</td>\n",
       "      <td>0.025157</td>\n",
       "      <td>220.000000</td>\n",
       "      <td>4.000000</td>\n",
       "    </tr>\n",
       "    <tr>\n",
       "      <th>max</th>\n",
       "      <td>NaN</td>\n",
       "      <td>NaN</td>\n",
       "      <td>NaN</td>\n",
       "      <td>NaN</td>\n",
       "      <td>NaN</td>\n",
       "      <td>NaN</td>\n",
       "      <td>1.00000</td>\n",
       "      <td>1.000000</td>\n",
       "      <td>3.426844</td>\n",
       "      <td>NaN</td>\n",
       "      <td>...</td>\n",
       "      <td>3.473768</td>\n",
       "      <td>2.242850</td>\n",
       "      <td>1.000000</td>\n",
       "      <td>1.000000</td>\n",
       "      <td>1.000000</td>\n",
       "      <td>1.000000</td>\n",
       "      <td>1.000000</td>\n",
       "      <td>1.000000</td>\n",
       "      <td>5462.000000</td>\n",
       "      <td>6.000000</td>\n",
       "    </tr>\n",
       "  </tbody>\n",
       "</table>\n",
       "<p>11 rows × 63 columns</p>\n",
       "</div>"
      ],
      "text/plain": [
       "                x0          x1          x2          x3          x4  \\\n",
       "count        49480       49500       49528       49504       49514   \n",
       "unique          85          15           2           2           5   \n",
       "top     aa2f3cd34a  16a14a2d17  06330986ed  ca63304de0  b7584c2d52   \n",
       "freq         13090       48103       48145       49085       28653   \n",
       "mean           NaN         NaN         NaN         NaN         NaN   \n",
       "std            NaN         NaN         NaN         NaN         NaN   \n",
       "min            NaN         NaN         NaN         NaN         NaN   \n",
       "25%            NaN         NaN         NaN         NaN         NaN   \n",
       "50%            NaN         NaN         NaN         NaN         NaN   \n",
       "75%            NaN         NaN         NaN         NaN         NaN   \n",
       "max            NaN         NaN         NaN         NaN         NaN   \n",
       "\n",
       "                x5           x6            x7            x8          x9  ...  \\\n",
       "count        49490  50000.00000  50000.000000  48793.000000       47642  ...   \n",
       "unique           6          NaN           NaN           NaN           7  ...   \n",
       "top     1746600cb0          NaN           NaN           NaN  f67f142e40  ...   \n",
       "freq         47980          NaN           NaN           NaN       16313  ...   \n",
       "mean           NaN      0.99296      0.975860     -0.000252         NaN  ...   \n",
       "std            NaN      0.08361      0.153485      1.023282         NaN  ...   \n",
       "min            NaN      0.00000      0.000000    -85.252444         NaN  ...   \n",
       "25%            NaN      1.00000      1.000000     -0.255490         NaN  ...   \n",
       "50%            NaN      1.00000      1.000000      0.221047         NaN  ...   \n",
       "75%            NaN      1.00000      1.000000      0.567620         NaN  ...   \n",
       "max            NaN      1.00000      1.000000      3.426844         NaN  ...   \n",
       "\n",
       "                 x53           x54           x55           x56           x57  \\\n",
       "count   47844.000000  47844.000000  46126.000000  46126.000000  46126.000000   \n",
       "unique           NaN           NaN           NaN           NaN           NaN   \n",
       "top              NaN           NaN           NaN           NaN           NaN   \n",
       "freq             NaN           NaN           NaN           NaN           NaN   \n",
       "mean       -0.000686     -0.003266      0.046325      0.298044      0.286040   \n",
       "std         0.999981      1.000475      0.130912      0.300326      0.291669   \n",
       "min        -1.600355     -1.838682      0.000000      0.000000      0.000000   \n",
       "25%        -0.697021     -0.731589      0.000000      0.037037      0.035714   \n",
       "50%        -0.080427     -0.011984      0.000000      0.193182      0.181818   \n",
       "75%         0.624234      0.804853      0.018349      0.500000      0.481013   \n",
       "max         3.473768      2.242850      1.000000      1.000000      1.000000   \n",
       "\n",
       "                 x58           x59           x60           x61             y  \n",
       "count   46126.000000  46126.000000  46126.000000  46126.000000  50000.000000  \n",
       "unique           NaN           NaN           NaN           NaN           NaN  \n",
       "top              NaN           NaN           NaN           NaN           NaN  \n",
       "freq             NaN           NaN           NaN           NaN           NaN  \n",
       "mean        0.201557      0.116578      0.051234    161.143910      3.108880  \n",
       "std         0.256582      0.203317      0.139306    186.923802      1.217479  \n",
       "min         0.000000      0.000000      0.000000      1.000000      0.000000  \n",
       "25%         0.008065      0.000000      0.000000     37.000000      2.000000  \n",
       "50%         0.086207      0.022727      0.000000    105.000000      3.000000  \n",
       "75%         0.304348      0.129900      0.025157    220.000000      4.000000  \n",
       "max         1.000000      1.000000      1.000000   5462.000000      6.000000  \n",
       "\n",
       "[11 rows x 63 columns]"
      ]
     },
     "execution_count": 6,
     "metadata": {},
     "output_type": "execute_result"
    }
   ],
   "source": [
    "df.describe(include='all')"
   ]
  },
  {
   "cell_type": "markdown",
   "id": "perfect-arena",
   "metadata": {},
   "source": [
    "Выясним, сколько пропущенных значений и в каких они столбцах"
   ]
  },
  {
   "cell_type": "code",
   "execution_count": 7,
   "id": "maritime-entrance",
   "metadata": {},
   "outputs": [
    {
     "name": "stdout",
     "output_type": "stream",
     "text": [
      "Rows in the data frame: 50000\n",
      "Rows without NAN: 32761\n"
     ]
    }
   ],
   "source": [
    "print('Rows in the data frame: {0}'.format(len(df)))\n",
    "print('Rows without NAN: {0}'.format(len(df.dropna(how='any'))))"
   ]
  },
  {
   "cell_type": "markdown",
   "id": "compressed-steps",
   "metadata": {},
   "source": [
    "# 1. Отбрасывать ли строки с NaN или пытаться восстановить"
   ]
  },
  {
   "cell_type": "markdown",
   "id": "decreased-spain",
   "metadata": {},
   "source": [
    "## 1.1. Отбрасывать строки с NaN"
   ]
  },
  {
   "cell_type": "code",
   "execution_count": 9,
   "id": "mature-tiffany",
   "metadata": {},
   "outputs": [
    {
     "data": {
      "text/plain": [
       "32761"
      ]
     },
     "execution_count": 9,
     "metadata": {},
     "output_type": "execute_result"
    }
   ],
   "source": [
    "df_1 = df.dropna(how='any')\n",
    "len(df_1)"
   ]
  },
  {
   "cell_type": "markdown",
   "id": "ranging-toilet",
   "metadata": {},
   "source": [
    "Для строковых столбцов посмотрим, сколько различных вариантов есть в каждом из них"
   ]
  },
  {
   "cell_type": "code",
   "execution_count": 10,
   "id": "stupid-property",
   "metadata": {},
   "outputs": [
    {
     "name": "stdout",
     "output_type": "stream",
     "text": [
      "19\n",
      "{'x0': 85, 'x1': 11, 'x2': 2, 'x3': 2, 'x4': 5, 'x5': 6, 'x9': 7, 'x10': 1699, 'x11': 4, 'x12': 7, 'x14': 37, 'x15': 2, 'x16': 10, 'x17': 79, 'x18': 2810, 'x19': 10, 'x20': 79, 'x21': 3508, 'x22': 7}\n"
     ]
    }
   ],
   "source": [
    "str_options_num = {}\n",
    "for column in df_1.columns:\n",
    "    if df_1[column].dtypes == 'object':\n",
    "        str_options_num[column] = df_1[column].nunique()\n",
    "print(len(str_options_num))\n",
    "print(str_options_num)"
   ]
  },
  {
   "cell_type": "markdown",
   "id": "frank-mustang",
   "metadata": {},
   "source": [
    "# 2. Убирать ли факторы, в которых большинство строк принимает одно значение"
   ]
  },
  {
   "cell_type": "markdown",
   "id": "damaged-priest",
   "metadata": {},
   "source": [
    "## 2.1. Убирать"
   ]
  },
  {
   "cell_type": "markdown",
   "id": "appropriate-yorkshire",
   "metadata": {},
   "source": [
    "В качестве границы примем, что если 95% и более наблюдений принимают в данном столбце одинаковое значение, то столбец неинформативен, и его необходимо удалить."
   ]
  },
  {
   "cell_type": "code",
   "execution_count": 11,
   "id": "proper-violin",
   "metadata": {},
   "outputs": [
    {
     "name": "stdout",
     "output_type": "stream",
     "text": [
      "['x1', 'x2', 'x3', 'x5', 'x22']\n",
      "['x14', 'x9', 'x21', 'x12', 'x11', 'x20', 'x19', 'x18', 'x15', 'x16', 'x0', 'x4', 'x10', 'x17']\n"
     ]
    }
   ],
   "source": [
    "df_2 = df_1.copy()\n",
    "columns_to_del = []\n",
    "for column in str_columns:\n",
    "    for value in df_2[column].value_counts():\n",
    "        if value/len(df_2) >= 0.95:\n",
    "            columns_to_del.append(column)\n",
    "print(columns_to_del)\n",
    "\n",
    "str_columns = list(set(str_columns) - set(columns_to_del))\n",
    "print(str_columns)"
   ]
  },
  {
   "cell_type": "code",
   "execution_count": 12,
   "id": "elect-property",
   "metadata": {},
   "outputs": [
    {
     "data": {
      "text/html": [
       "<div>\n",
       "<style scoped>\n",
       "    .dataframe tbody tr th:only-of-type {\n",
       "        vertical-align: middle;\n",
       "    }\n",
       "\n",
       "    .dataframe tbody tr th {\n",
       "        vertical-align: top;\n",
       "    }\n",
       "\n",
       "    .dataframe thead th {\n",
       "        text-align: right;\n",
       "    }\n",
       "</style>\n",
       "<table border=\"1\" class=\"dataframe\">\n",
       "  <thead>\n",
       "    <tr style=\"text-align: right;\">\n",
       "      <th></th>\n",
       "      <th>x0</th>\n",
       "      <th>x4</th>\n",
       "      <th>x6</th>\n",
       "      <th>x7</th>\n",
       "      <th>x8</th>\n",
       "      <th>x9</th>\n",
       "      <th>x10</th>\n",
       "      <th>x11</th>\n",
       "      <th>x12</th>\n",
       "      <th>x13</th>\n",
       "      <th>...</th>\n",
       "      <th>x53</th>\n",
       "      <th>x54</th>\n",
       "      <th>x55</th>\n",
       "      <th>x56</th>\n",
       "      <th>x57</th>\n",
       "      <th>x58</th>\n",
       "      <th>x59</th>\n",
       "      <th>x60</th>\n",
       "      <th>x61</th>\n",
       "      <th>y</th>\n",
       "    </tr>\n",
       "  </thead>\n",
       "  <tbody>\n",
       "    <tr>\n",
       "      <th>0</th>\n",
       "      <td>b4d8a653ea</td>\n",
       "      <td>a62168d626</td>\n",
       "      <td>1</td>\n",
       "      <td>1</td>\n",
       "      <td>-0.688706</td>\n",
       "      <td>7e5c97705a</td>\n",
       "      <td>e5df3eff9b</td>\n",
       "      <td>91bb549494</td>\n",
       "      <td>e33c63cf35</td>\n",
       "      <td>3694.0</td>\n",
       "      <td>...</td>\n",
       "      <td>0.235333</td>\n",
       "      <td>0.264952</td>\n",
       "      <td>0.000000</td>\n",
       "      <td>0.333333</td>\n",
       "      <td>0.333333</td>\n",
       "      <td>0.333333</td>\n",
       "      <td>0.000000</td>\n",
       "      <td>0.000000</td>\n",
       "      <td>9.0</td>\n",
       "      <td>2</td>\n",
       "    </tr>\n",
       "    <tr>\n",
       "      <th>1</th>\n",
       "      <td>467f9617a3</td>\n",
       "      <td>b7584c2d52</td>\n",
       "      <td>1</td>\n",
       "      <td>1</td>\n",
       "      <td>0.870871</td>\n",
       "      <td>5624b8f759</td>\n",
       "      <td>fa0b797a92</td>\n",
       "      <td>669ea3d319</td>\n",
       "      <td>f178803074</td>\n",
       "      <td>18156.0</td>\n",
       "      <td>...</td>\n",
       "      <td>1.782346</td>\n",
       "      <td>1.322409</td>\n",
       "      <td>0.011647</td>\n",
       "      <td>0.397671</td>\n",
       "      <td>0.239601</td>\n",
       "      <td>0.249584</td>\n",
       "      <td>0.068220</td>\n",
       "      <td>0.033278</td>\n",
       "      <td>601.0</td>\n",
       "      <td>4</td>\n",
       "    </tr>\n",
       "    <tr>\n",
       "      <th>2</th>\n",
       "      <td>190436e528</td>\n",
       "      <td>b7584c2d52</td>\n",
       "      <td>1</td>\n",
       "      <td>1</td>\n",
       "      <td>0.437655</td>\n",
       "      <td>5624b8f759</td>\n",
       "      <td>152af2cb2f</td>\n",
       "      <td>91bb549494</td>\n",
       "      <td>e33c63cf35</td>\n",
       "      <td>1178.0</td>\n",
       "      <td>...</td>\n",
       "      <td>-0.586540</td>\n",
       "      <td>0.672436</td>\n",
       "      <td>0.000000</td>\n",
       "      <td>0.606061</td>\n",
       "      <td>0.121212</td>\n",
       "      <td>0.212121</td>\n",
       "      <td>0.060606</td>\n",
       "      <td>0.000000</td>\n",
       "      <td>33.0</td>\n",
       "      <td>3</td>\n",
       "    </tr>\n",
       "    <tr>\n",
       "      <th>3</th>\n",
       "      <td>43859085bc</td>\n",
       "      <td>a62168d626</td>\n",
       "      <td>1</td>\n",
       "      <td>1</td>\n",
       "      <td>0.004439</td>\n",
       "      <td>f67f142e40</td>\n",
       "      <td>c4dd2197c3</td>\n",
       "      <td>91bb549494</td>\n",
       "      <td>e33c63cf35</td>\n",
       "      <td>14559.0</td>\n",
       "      <td>...</td>\n",
       "      <td>-1.600326</td>\n",
       "      <td>-1.838680</td>\n",
       "      <td>0.000000</td>\n",
       "      <td>1.000000</td>\n",
       "      <td>0.000000</td>\n",
       "      <td>0.000000</td>\n",
       "      <td>0.000000</td>\n",
       "      <td>0.000000</td>\n",
       "      <td>1.0</td>\n",
       "      <td>4</td>\n",
       "    </tr>\n",
       "    <tr>\n",
       "      <th>4</th>\n",
       "      <td>a4c3095b75</td>\n",
       "      <td>b7584c2d52</td>\n",
       "      <td>1</td>\n",
       "      <td>1</td>\n",
       "      <td>0.480977</td>\n",
       "      <td>7e5c97705a</td>\n",
       "      <td>e071d01df5</td>\n",
       "      <td>91bb549494</td>\n",
       "      <td>e33c63cf35</td>\n",
       "      <td>5777.0</td>\n",
       "      <td>...</td>\n",
       "      <td>0.960991</td>\n",
       "      <td>0.790990</td>\n",
       "      <td>0.020161</td>\n",
       "      <td>0.645161</td>\n",
       "      <td>0.258065</td>\n",
       "      <td>0.036290</td>\n",
       "      <td>0.040323</td>\n",
       "      <td>0.000000</td>\n",
       "      <td>248.0</td>\n",
       "      <td>3</td>\n",
       "    </tr>\n",
       "  </tbody>\n",
       "</table>\n",
       "<p>5 rows × 58 columns</p>\n",
       "</div>"
      ],
      "text/plain": [
       "           x0          x4  x6  x7        x8          x9         x10  \\\n",
       "0  b4d8a653ea  a62168d626   1   1 -0.688706  7e5c97705a  e5df3eff9b   \n",
       "1  467f9617a3  b7584c2d52   1   1  0.870871  5624b8f759  fa0b797a92   \n",
       "2  190436e528  b7584c2d52   1   1  0.437655  5624b8f759  152af2cb2f   \n",
       "3  43859085bc  a62168d626   1   1  0.004439  f67f142e40  c4dd2197c3   \n",
       "4  a4c3095b75  b7584c2d52   1   1  0.480977  7e5c97705a  e071d01df5   \n",
       "\n",
       "          x11         x12      x13  ...       x53       x54       x55  \\\n",
       "0  91bb549494  e33c63cf35   3694.0  ...  0.235333  0.264952  0.000000   \n",
       "1  669ea3d319  f178803074  18156.0  ...  1.782346  1.322409  0.011647   \n",
       "2  91bb549494  e33c63cf35   1178.0  ... -0.586540  0.672436  0.000000   \n",
       "3  91bb549494  e33c63cf35  14559.0  ... -1.600326 -1.838680  0.000000   \n",
       "4  91bb549494  e33c63cf35   5777.0  ...  0.960991  0.790990  0.020161   \n",
       "\n",
       "        x56       x57       x58       x59       x60    x61  y  \n",
       "0  0.333333  0.333333  0.333333  0.000000  0.000000    9.0  2  \n",
       "1  0.397671  0.239601  0.249584  0.068220  0.033278  601.0  4  \n",
       "2  0.606061  0.121212  0.212121  0.060606  0.000000   33.0  3  \n",
       "3  1.000000  0.000000  0.000000  0.000000  0.000000    1.0  4  \n",
       "4  0.645161  0.258065  0.036290  0.040323  0.000000  248.0  3  \n",
       "\n",
       "[5 rows x 58 columns]"
      ]
     },
     "execution_count": 12,
     "metadata": {},
     "output_type": "execute_result"
    }
   ],
   "source": [
    "for column in columns_to_del:\n",
    "    del df_2[column]\n",
    "df_2.head()"
   ]
  },
  {
   "cell_type": "markdown",
   "id": "frequent-leisure",
   "metadata": {},
   "source": [
    "# 3. Разделим данные предикторы и предсказываемую переменную"
   ]
  },
  {
   "cell_type": "code",
   "execution_count": 13,
   "id": "contained-israeli",
   "metadata": {},
   "outputs": [],
   "source": [
    "X_3 = df_2.drop('y', axis=1).copy()\n",
    "y_3 = df_2['y'].copy()"
   ]
  },
  {
   "cell_type": "markdown",
   "id": "marked-crime",
   "metadata": {},
   "source": [
    "# 4. Формат кодировки категориальных переменных"
   ]
  },
  {
   "cell_type": "markdown",
   "id": "authentic-illustration",
   "metadata": {},
   "source": [
    "## 4.1. One-Hot Encoding"
   ]
  },
  {
   "cell_type": "code",
   "execution_count": 14,
   "id": "strange-salmon",
   "metadata": {},
   "outputs": [],
   "source": [
    "X_4 = pd.get_dummies(X_3, columns=[*str_columns])"
   ]
  },
  {
   "cell_type": "code",
   "execution_count": 15,
   "id": "alpha-enclosure",
   "metadata": {},
   "outputs": [],
   "source": [
    "y_4 = pd.get_dummies(y_3)"
   ]
  },
  {
   "cell_type": "code",
   "execution_count": 16,
   "id": "aquatic-fruit",
   "metadata": {},
   "outputs": [
    {
     "data": {
      "text/plain": [
       "(32761, 8385)"
      ]
     },
     "execution_count": 16,
     "metadata": {},
     "output_type": "execute_result"
    }
   ],
   "source": [
    "X_4.shape"
   ]
  },
  {
   "cell_type": "code",
   "execution_count": 17,
   "id": "convinced-grove",
   "metadata": {},
   "outputs": [
    {
     "data": {
      "text/plain": [
       "(32761, 7)"
      ]
     },
     "execution_count": 17,
     "metadata": {},
     "output_type": "execute_result"
    }
   ],
   "source": [
    "y_4.shape"
   ]
  },
  {
   "cell_type": "markdown",
   "id": "therapeutic-choice",
   "metadata": {},
   "source": [
    "# 5. Нормализовать данные"
   ]
  },
  {
   "cell_type": "code",
   "execution_count": 18,
   "id": "expected-actor",
   "metadata": {},
   "outputs": [],
   "source": [
    "from sklearn.preprocessing import scale"
   ]
  },
  {
   "cell_type": "markdown",
   "id": "corporate-synthetic",
   "metadata": {},
   "source": [
    "## 5.1. Нормализовать все данные"
   ]
  },
  {
   "cell_type": "code",
   "execution_count": 19,
   "id": "compressed-matter",
   "metadata": {},
   "outputs": [],
   "source": [
    "X_5 = scale(X_4)"
   ]
  },
  {
   "cell_type": "code",
   "execution_count": 20,
   "id": "focused-dynamics",
   "metadata": {},
   "outputs": [
    {
     "data": {
      "text/plain": [
       "(32761, 8385)"
      ]
     },
     "execution_count": 20,
     "metadata": {},
     "output_type": "execute_result"
    }
   ],
   "source": [
    "X_5.shape"
   ]
  },
  {
   "cell_type": "code",
   "execution_count": 23,
   "id": "broadband-mandate",
   "metadata": {},
   "outputs": [],
   "source": [
    "X_5 = pd.DataFrame(X_5, columns=X_4.columns)"
   ]
  },
  {
   "cell_type": "markdown",
   "id": "potential-promotion",
   "metadata": {},
   "source": [
    "## 5.2. Нормализовать только числовые данные"
   ]
  },
  {
   "cell_type": "code",
   "execution_count": 50,
   "id": "starting-authorization",
   "metadata": {},
   "outputs": [],
   "source": [
    "X_5 = X_4.copy()\n",
    "#np.log(X_5['x8']).hist(bins=20, density=True);\n",
    "#type(np.log(X_5['x8']))"
   ]
  },
  {
   "cell_type": "markdown",
   "id": "informational-working",
   "metadata": {},
   "source": [
    "# 6. Разделим выборку на тренировочную и тестовую"
   ]
  },
  {
   "cell_type": "code",
   "execution_count": 27,
   "id": "current-alpha",
   "metadata": {},
   "outputs": [],
   "source": [
    "from sklearn.model_selection import train_test_split"
   ]
  },
  {
   "cell_type": "code",
   "execution_count": 51,
   "id": "inside-federal",
   "metadata": {},
   "outputs": [],
   "source": [
    "X_train, X_test, y_train, y_test = train_test_split(X_5, y_4, random_state=19, test_size=0.2)"
   ]
  },
  {
   "cell_type": "markdown",
   "id": "informative-blank",
   "metadata": {},
   "source": [
    "# 7. Веса при несбалансированной выборке"
   ]
  },
  {
   "cell_type": "markdown",
   "id": "aerial-waterproof",
   "metadata": {},
   "source": [
    "Оценим сбалансированность выборки"
   ]
  },
  {
   "cell_type": "code",
   "execution_count": 98,
   "id": "abroad-master",
   "metadata": {},
   "outputs": [
    {
     "data": {
      "text/plain": [
       "0  1  2  3  4  5  6\n",
       "0  0  1  0  0  0  0    8144\n",
       "      0  1  0  0  0    7739\n",
       "         0  1  0  0    5323\n",
       "            0  1  0    2941\n",
       "   1  0  0  0  0  0     969\n",
       "   0  0  0  0  0  1     911\n",
       "1  0  0  0  0  0  0     181\n",
       "dtype: int64"
      ]
     },
     "execution_count": 98,
     "metadata": {},
     "output_type": "execute_result"
    }
   ],
   "source": [
    "y_train.value_counts()"
   ]
  },
  {
   "cell_type": "code",
   "execution_count": 99,
   "id": "american-trigger",
   "metadata": {},
   "outputs": [
    {
     "name": "stdout",
     "output_type": "stream",
     "text": [
      "[{0: 1, 1: 143.79558011049724}, {0: 1, 1: 26.046439628482972}, {0: 1, 1: 2.218074656188605}, {0: 1, 1: 2.386484041865874}, {0: 1, 1: 3.9235393575051662}, {0: 1, 1: 7.911254675280516}, {0: 1, 1: 27.768386388583973}]\n"
     ]
    }
   ],
   "source": [
    "class_weights = []\n",
    "for i in range(y_train.shape[1]):\n",
    "    class_weights.append({0:1, 1:(y_train.shape[0] - y_train[i].sum())/y_train[i].sum()})\n",
    "print(class_weights)"
   ]
  },
  {
   "cell_type": "markdown",
   "id": "electrical-strength",
   "metadata": {},
   "source": [
    "# 7. Применение классификатора"
   ]
  },
  {
   "cell_type": "markdown",
   "id": "detailed-handy",
   "metadata": {},
   "source": [
    "## 7.1. Random Forest"
   ]
  },
  {
   "cell_type": "code",
   "execution_count": 31,
   "id": "derived-ontario",
   "metadata": {},
   "outputs": [],
   "source": [
    "from sklearn.ensemble import RandomForestClassifier\n",
    "#from sklearn.model_selection import GridSearchCV\n",
    "from sklearn import metrics"
   ]
  },
  {
   "cell_type": "code",
   "execution_count": 145,
   "id": "similar-candy",
   "metadata": {},
   "outputs": [],
   "source": [
    "model = RandomForestClassifier(random_state=19,\n",
    "                               n_estimators=200,\n",
    "                               criterion='gini',\n",
    "                               max_samples=20000,\n",
    "                               max_features=2000,\n",
    "                               max_depth=15,\n",
    "                               min_samples_leaf=10,\n",
    "                               min_samples_split=25,\n",
    "                               bootstrap=True,\n",
    "                               #class_weight=class_weights,\n",
    "                               verbose=1,\n",
    "                               n_jobs=-1\n",
    "                              )"
   ]
  },
  {
   "cell_type": "code",
   "execution_count": 146,
   "id": "lightweight-mention",
   "metadata": {},
   "outputs": [
    {
     "name": "stderr",
     "output_type": "stream",
     "text": [
      "[Parallel(n_jobs=-1)]: Using backend ThreadingBackend with 8 concurrent workers.\n",
      "[Parallel(n_jobs=-1)]: Done  34 tasks      | elapsed:   21.3s\n",
      "[Parallel(n_jobs=-1)]: Done 184 tasks      | elapsed:  1.8min\n",
      "[Parallel(n_jobs=-1)]: Done 200 out of 200 | elapsed:  2.0min finished\n"
     ]
    },
    {
     "data": {
      "text/plain": [
       "RandomForestClassifier(max_depth=15, max_features=2000, max_samples=20000,\n",
       "                       min_samples_leaf=10, min_samples_split=25,\n",
       "                       n_estimators=200, n_jobs=-1, random_state=19, verbose=1)"
      ]
     },
     "execution_count": 146,
     "metadata": {},
     "output_type": "execute_result"
    }
   ],
   "source": [
    "model.fit(X_train, y_train)"
   ]
  },
  {
   "cell_type": "code",
   "execution_count": 147,
   "id": "catholic-leadership",
   "metadata": {},
   "outputs": [
    {
     "data": {
      "text/plain": [
       "{'bootstrap': True,\n",
       " 'ccp_alpha': 0.0,\n",
       " 'class_weight': None,\n",
       " 'criterion': 'gini',\n",
       " 'max_depth': 15,\n",
       " 'max_features': 2000,\n",
       " 'max_leaf_nodes': None,\n",
       " 'max_samples': 20000,\n",
       " 'min_impurity_decrease': 0.0,\n",
       " 'min_samples_leaf': 10,\n",
       " 'min_samples_split': 25,\n",
       " 'min_weight_fraction_leaf': 0.0,\n",
       " 'n_estimators': 200,\n",
       " 'n_jobs': -1,\n",
       " 'oob_score': False,\n",
       " 'random_state': 19,\n",
       " 'verbose': 1,\n",
       " 'warm_start': False}"
      ]
     },
     "execution_count": 147,
     "metadata": {},
     "output_type": "execute_result"
    }
   ],
   "source": [
    "model.get_params()"
   ]
  },
  {
   "cell_type": "code",
   "execution_count": 148,
   "id": "editorial-capital",
   "metadata": {},
   "outputs": [
    {
     "name": "stderr",
     "output_type": "stream",
     "text": [
      "[Parallel(n_jobs=8)]: Using backend ThreadingBackend with 8 concurrent workers.\n",
      "[Parallel(n_jobs=8)]: Done  34 tasks      | elapsed:    0.2s\n",
      "[Parallel(n_jobs=8)]: Done 184 tasks      | elapsed:    1.2s\n",
      "[Parallel(n_jobs=8)]: Done 200 out of 200 | elapsed:    1.3s finished\n"
     ]
    },
    {
     "data": {
      "text/plain": [
       "0.6863553113553114"
      ]
     },
     "execution_count": 148,
     "metadata": {},
     "output_type": "execute_result"
    }
   ],
   "source": [
    "model.score(X_train, y_train)"
   ]
  },
  {
   "cell_type": "code",
   "execution_count": 149,
   "id": "handed-essay",
   "metadata": {},
   "outputs": [
    {
     "name": "stderr",
     "output_type": "stream",
     "text": [
      "[Parallel(n_jobs=8)]: Using backend ThreadingBackend with 8 concurrent workers.\n",
      "[Parallel(n_jobs=8)]: Done  34 tasks      | elapsed:    0.1s\n",
      "[Parallel(n_jobs=8)]: Done 184 tasks      | elapsed:    0.7s\n",
      "[Parallel(n_jobs=8)]: Done 200 out of 200 | elapsed:    0.8s finished\n"
     ]
    }
   ],
   "source": [
    "y_pred = model.predict(X_test)"
   ]
  },
  {
   "cell_type": "code",
   "execution_count": 150,
   "id": "developing-radius",
   "metadata": {},
   "outputs": [
    {
     "name": "stderr",
     "output_type": "stream",
     "text": [
      "[Parallel(n_jobs=8)]: Using backend ThreadingBackend with 8 concurrent workers.\n",
      "[Parallel(n_jobs=8)]: Done  34 tasks      | elapsed:    0.1s\n",
      "[Parallel(n_jobs=8)]: Done 184 tasks      | elapsed:    0.7s\n",
      "[Parallel(n_jobs=8)]: Done 200 out of 200 | elapsed:    0.7s finished\n"
     ]
    },
    {
     "data": {
      "text/plain": [
       "0.6343659392644591"
      ]
     },
     "execution_count": 150,
     "metadata": {},
     "output_type": "execute_result"
    }
   ],
   "source": [
    "model.score(X_test, y_test)"
   ]
  }
 ],
 "metadata": {
  "kernelspec": {
   "display_name": "Python 3",
   "language": "python",
   "name": "python3"
  },
  "language_info": {
   "codemirror_mode": {
    "name": "ipython",
    "version": 3
   },
   "file_extension": ".py",
   "mimetype": "text/x-python",
   "name": "python",
   "nbconvert_exporter": "python",
   "pygments_lexer": "ipython3",
   "version": "3.9.2"
  }
 },
 "nbformat": 4,
 "nbformat_minor": 5
}
